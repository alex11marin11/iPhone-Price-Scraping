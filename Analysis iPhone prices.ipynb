{
 "cells": [
  {
   "cell_type": "code",
   "execution_count": null,
   "metadata": {},
   "outputs": [],
   "source": [
    "import pandas as pd\n",
    "import mysql.connector\n",
    "import matplotlib.pyplot as plt\n",
    "from datetime import datetime\n",
    "import warnings\n",
    "warnings.filterwarnings(\"ignore\")"
   ]
  },
  {
   "cell_type": "code",
   "execution_count": null,
   "metadata": {},
   "outputs": [],
   "source": [
    "db = mysql.connector.connect(\n",
    "            host = 'localhost',\n",
    "            user = 'root',\n",
    "            passwd = '881510811',\n",
    "            database = 'iphone_price_scraping'\n",
    "        ) # Create connection\n",
    "\n",
    "dbcursor = db.cursor() # Create cursor\n",
    "\n",
    "# Prepare SQL query to READ a record into the database.\n",
    "sql = \"SELECT * FROM phone_price\"\n",
    "\n",
    "# Execute the SQL command\n",
    "dbcursor.execute(sql)\n",
    "\n",
    "# Fetch all the rows in a list of lists.\n",
    "results = dbcursor.fetchall()\n",
    "\n",
    "dbcursor.close() # Close cursor\n",
    "db.close() # Close connection\n",
    "\n",
    "results = pd.DataFrame(results, columns=['phone', 'memory', 'color', 'state', 'daytime', 'price'])\n",
    "\n",
    "# results = results[(results['daytime']>=pd.Timestamp(2020, 12, 6)) & (results['daytime']<=pd.Timestamp(2020, 12, 8))] "
   ]
  },
  {
   "cell_type": "code",
   "execution_count": null,
   "metadata": {},
   "outputs": [],
   "source": [
    "# Empty dataframe with same characteristics as the results one\n",
    "empty_df = pd.DataFrame({'phone': pd.Series([], dtype='str'),\n",
    "                   'memory': pd.Series([], dtype='int64'),\n",
    "                   'color': pd.Series([], dtype='str'),\n",
    "                   'state': pd.Series([], dtype='str'),\n",
    "                   'daytime': pd.Series([], dtype='datetime64[ns]'),\n",
    "                   'price': pd.Series([], dtype='float64')})"
   ]
  },
  {
   "cell_type": "code",
   "execution_count": null,
   "metadata": {},
   "outputs": [],
   "source": [
    "def plot(df, phone, memory, color):\n",
    "    \n",
    "    # Select only the phones that match characteristics\n",
    "    dff = df[(df['phone'].isin([phone])) & (df['memory'].isin([memory])) & df['color'].isin([color])]\n",
    "    \n",
    "    # Compare to empty dataset to see make sure it is not empty. If it is we exit\n",
    "    if dff.equals(empty_df):\n",
    "        return \n",
    "    \n",
    "    # Separate by states\n",
    "    stallone = dff[dff['state'] == 'Stallone']\n",
    "    correcto = dff[dff['state'] == 'Correcto']\n",
    "    buen_estado = dff[dff['state'] == 'Buen estado']\n",
    "    muy_bueno = dff[dff['state'] == 'Muy bueno']\n",
    "    impecable = dff[dff['state'] == 'Impecable']\n",
    "    \n",
    "    # Create the figure and axes\n",
    "    fig, axes = plt.subplots(nrows=1, ncols=1, figsize=(20,8))\n",
    "    axes.set_title(f'{phone} {memory} {color}')\n",
    "    \n",
    "    # Create the plot for each state and plot them in same figure\n",
    "    stallone.plot(kind='line',x='daytime',y='price',color='darkred',marker='.', ax=axes, label='Stallone')\n",
    "    correcto.plot(kind='line',x='daytime',y='price',color='orangered',marker='.', ax=axes, label='Correcto')\n",
    "    buen_estado.plot(kind='line',x='daytime',y='price',color='gold',marker='.', ax=axes, label='Buen estado')\n",
    "    muy_bueno.plot(kind='line',x='daytime',y='price',color='greenyellow',marker='.', ax=axes, label='Muy bueno')\n",
    "    impecable.plot(kind='line',x='daytime',y='price',color='green',marker='.', ax=axes, label='Impecable')"
   ]
  },
  {
   "cell_type": "code",
   "execution_count": null,
   "metadata": {
    "scrolled": false
   },
   "outputs": [],
   "source": [
    "phones = results['phone'].unique().tolist()\n",
    "memories = results['memory'].unique().tolist()\n",
    "colors = results['color'].unique().tolist()\n",
    "\n",
    "for phone in phones:\n",
    "    for memory in memories:\n",
    "        print(f'*********************************************************{phone} {memory}*********************************************************')\n",
    "        for color in colors:\n",
    "            plot(results, phone, memory, color)\n",
    "            plt.grid()\n",
    "    \n",
    "        plt.gcf().autofmt_xdate() # Beautifyies the labels\n",
    "        plt.show()"
   ]
  },
  {
   "cell_type": "code",
   "execution_count": null,
   "metadata": {
    "scrolled": false
   },
   "outputs": [],
   "source": [
    "# results_min = pd.DataFrame(results.groupby(['phone','color','memory']).min()['price'])\n",
    "# results_mean = pd.DataFrame(results.groupby(['phone','color','memory']).mean()['price'])\n",
    "# results_max = pd.DataFrame(results.groupby(['phone','color','memory']).max()['price'])\n",
    "\n",
    "# display(results_min, results_mean, results_max)"
   ]
  }
 ],
 "metadata": {
  "kernelspec": {
   "display_name": "Python 3",
   "language": "python",
   "name": "python3"
  },
  "language_info": {
   "codemirror_mode": {
    "name": "ipython",
    "version": 3
   },
   "file_extension": ".py",
   "mimetype": "text/x-python",
   "name": "python",
   "nbconvert_exporter": "python",
   "pygments_lexer": "ipython3",
   "version": "3.8.3"
  }
 },
 "nbformat": 4,
 "nbformat_minor": 4
}
